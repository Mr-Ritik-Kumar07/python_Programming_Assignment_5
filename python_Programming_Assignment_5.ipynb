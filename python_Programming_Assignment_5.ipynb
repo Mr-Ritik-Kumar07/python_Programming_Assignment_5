{
 "cells": [
  {
   "cell_type": "markdown",
   "id": "c814ee29-4a2b-4c42-b4cf-b94de4265e82",
   "metadata": {},
   "source": [
    "1. Write a Python Program to Find LCM?"
   ]
  },
  {
   "cell_type": "code",
   "execution_count": 23,
   "id": "973ab312-e053-4fff-b950-6f0abce25520",
   "metadata": {},
   "outputs": [
    {
     "name": "stdin",
     "output_type": "stream",
     "text": [
      "Enter first number:  9\n",
      "Enter second number:  6\n"
     ]
    },
    {
     "name": "stdout",
     "output_type": "stream",
     "text": [
      "LCM of 4 and 2 is 18\n"
     ]
    }
   ],
   "source": [
    "def find_lcm(a, b):\n",
    "    if a > b:\n",
    "        greater = a\n",
    "    else:\n",
    "        greater = b\n",
    "        \"created by ritik ranjan\"\n",
    "\n",
    "    while True:\n",
    "        if (greater % a == 0) and (greater % b == 0):\n",
    "            lcm = greater\n",
    "            break\n",
    "        greater += 1\n",
    "\n",
    "    return lcm\n",
    "\n",
    "number_1 = int(input(\"Enter first number: \"))\n",
    "number_2 = int(input(\"Enter second number: \"))\n",
    "\n",
    "print(\"LCM of\", num1, \"and\", num2, \"is\", find_lcm(number_1, number_2))\n"
   ]
  },
  {
   "cell_type": "code",
   "execution_count": 24,
   "id": "d38bfec6-ce54-4376-bb5e-63dc826f2443",
   "metadata": {},
   "outputs": [
    {
     "data": {
      "text/plain": [
       "8"
      ]
     },
     "execution_count": 24,
     "metadata": {},
     "output_type": "execute_result"
    }
   ],
   "source": [
    "find_lcm(8,4)"
   ]
  },
  {
   "cell_type": "code",
   "execution_count": 25,
   "id": "28d495b6-36ce-49bf-9f28-e8946526bf34",
   "metadata": {},
   "outputs": [
    {
     "data": {
      "text/plain": [
       "9"
      ]
     },
     "execution_count": 25,
     "metadata": {},
     "output_type": "execute_result"
    }
   ],
   "source": [
    "find_lcm(9,3)"
   ]
  },
  {
   "cell_type": "code",
   "execution_count": 36,
   "id": "24e4a1bf-9329-40d8-bbcf-973ee4a308a3",
   "metadata": {},
   "outputs": [
    {
     "name": "stdin",
     "output_type": "stream",
     "text": [
      "Enter first number:  2\n",
      "Enter second number:  3\n"
     ]
    },
    {
     "name": "stdout",
     "output_type": "stream",
     "text": [
      "1\n"
     ]
    }
   ],
   "source": [
    "def find_hcf(a, b):\n",
    "    if a > b:\n",
    "        smaller = b\n",
    "    else:\n",
    "        smaller = a\n",
    "\n",
    "    for i in range(1, smaller + 1):\n",
    "        if (a % i == 0) and (b % i == 0):\n",
    "            hcf=1\n",
    "\n",
    "    return hcf\n",
    "\n",
    "number1 = int(input(\"Enter first number: \"))\n",
    "number2= int(input(\"Enter second number: \"))\n",
    "\n",
    "print(find_hcf(number1, number2))\n"
   ]
  },
  {
   "cell_type": "code",
   "execution_count": 31,
   "id": "595725d4-aaa7-4d01-a786-d07acea1fc2f",
   "metadata": {},
   "outputs": [
    {
     "data": {
      "text/plain": [
       "3"
      ]
     },
     "execution_count": 31,
     "metadata": {},
     "output_type": "execute_result"
    }
   ],
   "source": [
    "find_hcf(30,3)"
   ]
  },
  {
   "cell_type": "markdown",
   "id": "ceb66720-f384-40f0-9781-ae1eb9528451",
   "metadata": {},
   "source": [
    "3. Write a Python Program to Convert Decimal to Binary, Octal and Hexadecimal?"
   ]
  },
  {
   "cell_type": "code",
   "execution_count": 34,
   "id": "3592f357-b183-4037-8e49-1a281c3571eb",
   "metadata": {},
   "outputs": [
    {
     "name": "stdin",
     "output_type": "stream",
     "text": [
      "enter the your number :- 10\n"
     ]
    },
    {
     "name": "stdout",
     "output_type": "stream",
     "text": [
      "Binary number is: 0b1010\n",
      "octal number is: 0o12\n",
      "hexadecimal number is: 0xa\n"
     ]
    }
   ],
   "source": [
    "def convert_number(decimal):\n",
    "    binary = bin(decimal)\n",
    "    octal = oct(decimal)\n",
    "    hexadecimal = hex(decimal)\n",
    "\n",
    "    print(\"Binary number is:\", binary)\n",
    "    print(\"octal number is:\", octal)\n",
    "    print(\"hexadecimal number is:\", hexadecimal)\n",
    "\n",
    "decimal = int(input(\"enter the your number :-\"))\n",
    "\n",
    "convert_number(10)"
   ]
  },
  {
   "cell_type": "code",
   "execution_count": 35,
   "id": "ab6184c9-d2e1-4be8-bd6f-f6ebffe2031e",
   "metadata": {},
   "outputs": [
    {
     "name": "stdout",
     "output_type": "stream",
     "text": [
      "Binary number is: 0b11001\n",
      "octal number is: 0o31\n",
      "hexadecimal number is: 0x19\n"
     ]
    }
   ],
   "source": [
    "convert_number(25)"
   ]
  },
  {
   "cell_type": "markdown",
   "id": "c27fc3c9-317e-49d5-a622-6fa69aca42be",
   "metadata": {},
   "source": [
    "4. Write a Python Program To Find ASCII value of a character?"
   ]
  },
  {
   "cell_type": "code",
   "execution_count": 52,
   "id": "f2d04547-4677-4ee5-bb0e-9c53feb41418",
   "metadata": {},
   "outputs": [
    {
     "name": "stdin",
     "output_type": "stream",
     "text": [
      "Enter a character:  r\n"
     ]
    },
    {
     "name": "stdout",
     "output_type": "stream",
     "text": [
      "114\n"
     ]
    }
   ],
   "source": [
    "def find_ascii(number):\n",
    "    return ord(number)  \n",
    "number = input(\"Enter a character: \")\n",
    "ascii_value = find_ascii(number)\n",
    "print(ascii_value)"
   ]
  },
  {
   "cell_type": "code",
   "execution_count": 46,
   "id": "da9d3447-f1ff-4e5d-96e6-462e828fc25f",
   "metadata": {},
   "outputs": [
    {
     "name": "stdout",
     "output_type": "stream",
     "text": [
      "$\n"
     ]
    }
   ],
   "source": [
    "print(chr(36))"
   ]
  },
  {
   "cell_type": "markdown",
   "id": "ae6feced-0a23-4466-8458-e6e237452410",
   "metadata": {},
   "source": [
    "5. Write a Python Program to Make a Simple Calculator with 4 basic mathematical operations?"
   ]
  },
  {
   "cell_type": "code",
   "execution_count": 69,
   "id": "dea701ef-8a14-4ac3-8156-ebaad4213136",
   "metadata": {},
   "outputs": [
    {
     "name": "stdin",
     "output_type": "stream",
     "text": [
      "Enter first number:  100\n",
      "Enter second number:  2\n",
      "Enter operator (+, -, *, /):  /\n"
     ]
    },
    {
     "name": "stdout",
     "output_type": "stream",
     "text": [
      "Result: 50.0\n"
     ]
    }
   ],
   "source": [
    "def my_calculator(a, b, operator):\n",
    "    if operator == '+':\n",
    "        return a + b\n",
    "    elif operator == '-':\n",
    "        return a - b\n",
    "    elif operator == '*':\n",
    "        return a * b\n",
    "    elif operator == '/':\n",
    "        if b != 0:\n",
    "            return a / b\n",
    "        else:\n",
    "            return \"Division by zero not allowed\"\n",
    "    else:\n",
    "        return \"Invalid operator\"\n",
    "\n",
    "\n",
    "\n",
    "number1 = float(input(\"Enter first number: \"))     \n",
    "number2 = float(input(\"Enter second number: \"))    \n",
    "op = input(\"Enter operator (+, -, *, /): \")      \n",
    "\n",
    "result = my_calculator(number1, number2, op)\n",
    "\n",
    "print(\"Result:\", result)\n"
   ]
  },
  {
   "cell_type": "code",
   "execution_count": null,
   "id": "298f61d2-23fa-4d93-a631-79b0d63f65ba",
   "metadata": {},
   "outputs": [],
   "source": []
  }
 ],
 "metadata": {
  "kernelspec": {
   "display_name": "Python 3 (ipykernel)",
   "language": "python",
   "name": "python3"
  },
  "language_info": {
   "codemirror_mode": {
    "name": "ipython",
    "version": 3
   },
   "file_extension": ".py",
   "mimetype": "text/x-python",
   "name": "python",
   "nbconvert_exporter": "python",
   "pygments_lexer": "ipython3",
   "version": "3.12.7"
  }
 },
 "nbformat": 4,
 "nbformat_minor": 5
}
